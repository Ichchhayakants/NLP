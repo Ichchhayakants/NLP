{
 "cells": [
  {
   "cell_type": "code",
   "execution_count": 1,
   "metadata": {},
   "outputs": [
    {
     "name": "stdout",
     "output_type": "stream",
     "text": [
      "Collecting gensim\n",
      "  Downloading gensim-3.8.1-cp36-cp36m-win_amd64.whl (24.2 MB)\n",
      "Collecting smart-open>=1.8.1\n",
      "  Downloading smart_open-1.10.0.tar.gz (99 kB)\n",
      "Requirement already satisfied: scipy>=0.18.1 in c:\\users\\theunlikelymonk\\appdata\\local\\programs\\python\\python36\\lib\\site-packages (from gensim) (1.2.0)\n",
      "Requirement already satisfied: six>=1.5.0 in c:\\users\\theunlikelymonk\\appdata\\local\\programs\\python\\python36\\lib\\site-packages (from gensim) (1.12.0)\n",
      "Requirement already satisfied: numpy>=1.11.3 in c:\\users\\theunlikelymonk\\appdata\\local\\programs\\python\\python36\\lib\\site-packages (from gensim) (1.17.1)\n",
      "Requirement already satisfied: requests in c:\\users\\theunlikelymonk\\appdata\\local\\programs\\python\\python36\\lib\\site-packages (from smart-open>=1.8.1->gensim) (2.22.0)\n",
      "Requirement already satisfied: boto3 in c:\\users\\theunlikelymonk\\appdata\\local\\programs\\python\\python36\\lib\\site-packages (from smart-open>=1.8.1->gensim) (1.9.138)\n",
      "Collecting google-cloud-storage\n",
      "  Downloading google_cloud_storage-1.26.0-py2.py3-none-any.whl (75 kB)\n",
      "Requirement already satisfied: chardet<3.1.0,>=3.0.2 in c:\\users\\theunlikelymonk\\appdata\\local\\programs\\python\\python36\\lib\\site-packages (from requests->smart-open>=1.8.1->gensim) (3.0.4)\n",
      "Requirement already satisfied: urllib3!=1.25.0,!=1.25.1,<1.26,>=1.21.1 in c:\\users\\theunlikelymonk\\appdata\\local\\programs\\python\\python36\\lib\\site-packages (from requests->smart-open>=1.8.1->gensim) (1.22)\n",
      "Requirement already satisfied: idna<2.9,>=2.5 in c:\\users\\theunlikelymonk\\appdata\\local\\programs\\python\\python36\\lib\\site-packages (from requests->smart-open>=1.8.1->gensim) (2.6)\n",
      "Requirement already satisfied: certifi>=2017.4.17 in c:\\users\\theunlikelymonk\\appdata\\local\\programs\\python\\python36\\lib\\site-packages (from requests->smart-open>=1.8.1->gensim) (2018.11.29)\n",
      "Requirement already satisfied: botocore<1.13.0,>=1.12.138 in c:\\users\\theunlikelymonk\\appdata\\local\\programs\\python\\python36\\lib\\site-packages (from boto3->smart-open>=1.8.1->gensim) (1.12.138)\n",
      "Requirement already satisfied: jmespath<1.0.0,>=0.7.1 in c:\\users\\theunlikelymonk\\appdata\\local\\programs\\python\\python36\\lib\\site-packages (from boto3->smart-open>=1.8.1->gensim) (0.9.4)\n",
      "Requirement already satisfied: s3transfer<0.3.0,>=0.2.0 in c:\\users\\theunlikelymonk\\appdata\\local\\programs\\python\\python36\\lib\\site-packages (from boto3->smart-open>=1.8.1->gensim) (0.2.0)\n",
      "Collecting google-auth<2.0dev,>=1.11.0\n",
      "  Downloading google_auth-1.12.0-py2.py3-none-any.whl (83 kB)\n",
      "Collecting google-resumable-media<0.6dev,>=0.5.0\n",
      "  Downloading google_resumable_media-0.5.0-py2.py3-none-any.whl (38 kB)\n",
      "Collecting google-cloud-core<2.0dev,>=1.2.0\n",
      "  Downloading google_cloud_core-1.3.0-py2.py3-none-any.whl (26 kB)\n",
      "Requirement already satisfied: docutils>=0.10 in c:\\users\\theunlikelymonk\\appdata\\local\\programs\\python\\python36\\lib\\site-packages (from botocore<1.13.0,>=1.12.138->boto3->smart-open>=1.8.1->gensim) (0.14)\n",
      "Requirement already satisfied: python-dateutil<3.0.0,>=2.1; python_version >= \"2.7\" in c:\\users\\theunlikelymonk\\appdata\\local\\programs\\python\\python36\\lib\\site-packages (from botocore<1.13.0,>=1.12.138->boto3->smart-open>=1.8.1->gensim) (2.7.5)\n",
      "Collecting pyasn1-modules>=0.2.1\n",
      "  Downloading pyasn1_modules-0.2.8-py2.py3-none-any.whl (155 kB)\n",
      "Requirement already satisfied: setuptools>=40.3.0 in c:\\users\\theunlikelymonk\\appdata\\local\\programs\\python\\python36\\lib\\site-packages (from google-auth<2.0dev,>=1.11.0->google-cloud-storage->smart-open>=1.8.1->gensim) (41.2.0)\n",
      "Collecting rsa<4.1,>=3.1.4\n",
      "  Downloading rsa-4.0-py2.py3-none-any.whl (38 kB)\n",
      "Collecting cachetools<5.0,>=2.0.0\n",
      "  Downloading cachetools-4.0.0-py3-none-any.whl (10 kB)\n",
      "Collecting google-api-core<2.0.0dev,>=1.16.0\n",
      "  Downloading google_api_core-1.16.0-py2.py3-none-any.whl (70 kB)\n",
      "Collecting pyasn1<0.5.0,>=0.4.6\n",
      "  Downloading pyasn1-0.4.8-py2.py3-none-any.whl (77 kB)\n",
      "Requirement already satisfied: googleapis-common-protos<2.0dev,>=1.6.0 in c:\\users\\theunlikelymonk\\appdata\\local\\programs\\python\\python36\\lib\\site-packages (from google-api-core<2.0.0dev,>=1.16.0->google-cloud-core<2.0dev,>=1.2.0->google-cloud-storage->smart-open>=1.8.1->gensim) (1.6.0)\n",
      "Requirement already satisfied: pytz in c:\\users\\theunlikelymonk\\appdata\\local\\programs\\python\\python36\\lib\\site-packages (from google-api-core<2.0.0dev,>=1.16.0->google-cloud-core<2.0dev,>=1.2.0->google-cloud-storage->smart-open>=1.8.1->gensim) (2018.9)\n",
      "Requirement already satisfied: protobuf>=3.4.0 in c:\\users\\theunlikelymonk\\appdata\\local\\programs\\python\\python36\\lib\\site-packages (from google-api-core<2.0.0dev,>=1.16.0->google-cloud-core<2.0dev,>=1.2.0->google-cloud-storage->smart-open>=1.8.1->gensim) (3.8.0)\n",
      "Building wheels for collected packages: smart-open\n",
      "  Building wheel for smart-open (setup.py): started\n",
      "  Building wheel for smart-open (setup.py): finished with status 'done'\n",
      "  Created wheel for smart-open: filename=smart_open-1.10.0-py3-none-any.whl size=90637 sha256=2ccc537284580436226f078535c6eddfdbe82adbc345e6db55b96ce50f895f6a\n",
      "  Stored in directory: c:\\users\\theunlikelymonk\\appdata\\local\\pip\\cache\\wheels\\a1\\f3\\8a\\c46924c44ee290a85840f98cab840a65669cd377175eaf6850\n",
      "Successfully built smart-open\n",
      "Installing collected packages: pyasn1, pyasn1-modules, rsa, cachetools, google-auth, google-resumable-media, google-api-core, google-cloud-core, google-cloud-storage, smart-open, gensim\n",
      "Successfully installed cachetools-4.0.0 gensim-3.8.1 google-api-core-1.16.0 google-auth-1.12.0 google-cloud-core-1.3.0 google-cloud-storage-1.26.0 google-resumable-media-0.5.0 pyasn1-0.4.8 pyasn1-modules-0.2.8 rsa-4.0 smart-open-1.10.0\n"
     ]
    }
   ],
   "source": [
    "!pip install gensim"
   ]
  },
  {
   "cell_type": "code",
   "execution_count": 12,
   "metadata": {},
   "outputs": [],
   "source": [
    "from gensim.models import Word2Vec\n",
    "from sklearn.decomposition import PCA\n",
    "from matplotlib import pyplot"
   ]
  },
  {
   "cell_type": "code",
   "execution_count": 13,
   "metadata": {},
   "outputs": [],
   "source": [
    "# Define training data\n",
    "sentences = [['this','is','the','first','sentence','for','word2vec'],\n",
    "            ['this','is','the','second','sentence'],\n",
    "            ['yet','another','sentence'],\n",
    "            ['one','more','sentence'],\n",
    "            ['and','the','final','sentence']]"
   ]
  },
  {
   "cell_type": "code",
   "execution_count": 15,
   "metadata": {},
   "outputs": [
    {
     "name": "stdout",
     "output_type": "stream",
     "text": [
      "Word2Vec(vocab=14, size=100, alpha=0.025)\n"
     ]
    }
   ],
   "source": [
    "#train model\n",
    "model = Word2Vec(sentences,min_count=1)\n",
    "# Summarise the model\n",
    "print(model)"
   ]
  },
  {
   "cell_type": "code",
   "execution_count": 16,
   "metadata": {},
   "outputs": [
    {
     "name": "stderr",
     "output_type": "stream",
     "text": [
      "c:\\users\\theunlikelymonk\\appdata\\local\\programs\\python\\python36\\lib\\site-packages\\ipykernel_launcher.py:2: DeprecationWarning: Call to deprecated `__getitem__` (Method will be removed in 4.0.0, use self.wv.__getitem__() instead).\n",
      "  \n"
     ]
    }
   ],
   "source": [
    "# fit a 2d PCA model to the vectors\n",
    "X = model[model.wv.vocab]\n",
    "pca = PCA(n_components=2)\n",
    "result = pca.fit_transform(X)"
   ]
  },
  {
   "cell_type": "code",
   "execution_count": null,
   "metadata": {},
   "outputs": [],
   "source": []
  },
  {
   "cell_type": "code",
   "execution_count": 17,
   "metadata": {},
   "outputs": [
    {
     "name": "stdout",
     "output_type": "stream",
     "text": [
      "['this', 'is', 'the', 'first', 'sentence', 'for', 'word2vec', 'second', 'yet', 'another', 'one', 'more', 'and', 'final']\n"
     ]
    }
   ],
   "source": [
    "#Summarize vocabulary\n",
    "words = list(model.wv.vocab)\n",
    "print(words)"
   ]
  },
  {
   "cell_type": "code",
   "execution_count": 18,
   "metadata": {},
   "outputs": [
    {
     "name": "stderr",
     "output_type": "stream",
     "text": [
      "c:\\users\\theunlikelymonk\\appdata\\local\\programs\\python\\python36\\lib\\site-packages\\ipykernel_launcher.py:2: DeprecationWarning: Call to deprecated `__getitem__` (Method will be removed in 4.0.0, use self.wv.__getitem__() instead).\n",
      "  \n"
     ]
    },
    {
     "name": "stdout",
     "output_type": "stream",
     "text": [
      "[ 3.4157713e-03  2.1651920e-03 -3.1990046e-03 -2.1566951e-03\n",
      "  4.3502352e-03  1.7357247e-03 -3.6820339e-03 -1.6512104e-03\n",
      " -3.5524743e-03 -3.0200749e-03  4.9361559e-03  4.1240291e-03\n",
      "  1.5827563e-03 -2.9588761e-03 -2.7712056e-05 -3.9380426e-03\n",
      " -3.1860897e-03 -1.2924325e-03 -4.9374043e-03  1.6962021e-04\n",
      " -2.3645444e-03  2.8222057e-03  4.7009829e-03 -3.5858394e-03\n",
      "  2.3584422e-03 -4.5687752e-03 -3.3191191e-03  3.2953830e-03\n",
      " -3.3661092e-03  3.3382189e-03 -8.2191039e-04  4.2131329e-03\n",
      "  2.6549986e-03 -2.5538441e-03  3.6826166e-03 -3.2792289e-03\n",
      "  1.2310329e-03  4.0533366e-03  4.6364865e-03  9.2105992e-04\n",
      " -1.4425275e-03  3.0273621e-03  4.6625724e-03  2.1843652e-03\n",
      " -2.0122479e-03  2.9673974e-03 -1.9512009e-03 -6.5422873e-04\n",
      " -3.9932397e-03  4.3527158e-03  3.0947209e-03 -4.0597194e-03\n",
      "  4.5601290e-04  3.4741487e-03 -4.7264132e-04  5.0356454e-04\n",
      "  7.9256092e-04  9.8401902e-04 -7.2213565e-04  4.1520353e-03\n",
      "  4.8057763e-03 -2.3300762e-04 -3.6610411e-03  6.7667011e-04\n",
      "  1.1602486e-03  2.4180438e-03  2.0916769e-03 -7.3585619e-04\n",
      " -3.0966271e-03 -2.7426421e-03 -4.8007086e-04 -7.0444820e-04\n",
      " -4.1292128e-03 -4.4807419e-03 -2.4006782e-04 -4.2175166e-03\n",
      "  2.4140386e-03  3.6891282e-03  4.4500898e-03 -2.9469805e-03\n",
      " -2.7158195e-03  1.4749285e-03 -4.0950589e-03  4.4580437e-03\n",
      " -2.4851104e-03 -1.0521334e-03  2.7292308e-03 -3.4209024e-04\n",
      "  2.3923279e-03  4.0209447e-03  4.4129086e-03  2.8161472e-04\n",
      " -1.3613052e-03  1.1243556e-03  2.7594322e-03 -2.0543037e-03\n",
      "  4.8294123e-03 -1.3992023e-03 -2.6884687e-04 -2.0243872e-03]\n"
     ]
    }
   ],
   "source": [
    "# access vector for one word\n",
    "print(model['sentence'])"
   ]
  },
  {
   "cell_type": "code",
   "execution_count": 19,
   "metadata": {},
   "outputs": [],
   "source": [
    "#save model\n",
    "model.save('model.bin')"
   ]
  },
  {
   "cell_type": "code",
   "execution_count": null,
   "metadata": {},
   "outputs": [],
   "source": []
  },
  {
   "cell_type": "code",
   "execution_count": 20,
   "metadata": {},
   "outputs": [],
   "source": [
    "# load model\n",
    "new_model = Word2Vec.load('model.bin')"
   ]
  },
  {
   "cell_type": "code",
   "execution_count": 21,
   "metadata": {},
   "outputs": [
    {
     "name": "stdout",
     "output_type": "stream",
     "text": [
      "Word2Vec(vocab=14, size=100, alpha=0.025)\n"
     ]
    }
   ],
   "source": [
    "print(new_model)"
   ]
  },
  {
   "cell_type": "code",
   "execution_count": 24,
   "metadata": {},
   "outputs": [
    {
     "data": {
      "image/png": "[encoded data removed]",
      "text/plain": [
       "<Figure size 432x288 with 1 Axes>"
      ]
     },
     "metadata": {
      "needs_background": "light"
     },
     "output_type": "display_data"
    }
   ],
   "source": [
    "# Create a scatter plot of the projection\n",
    "pyplot.scatter(result[:,0], result[:,1])\n",
    "words = list(model.wv.vocab)\n",
    "for i, word in enumerate(words):\n",
    "    pyplot.annotate(word,xy=(result[i,0],result[i,1]))\n",
    "pyplot.show()"
   ]
  },
  {
   "cell_type": "code",
   "execution_count": null,
   "metadata": {},
   "outputs": [],
   "source": []
  },
  {
   "cell_type": "raw",
   "metadata": {},
   "source": []
  }
 ],
 "metadata": {
  "kernelspec": {
   "display_name": "Python 3",
   "language": "python",
   "name": "python3"
  },
  "language_info": {
   "codemirror_mode": {
    "name": "ipython",
    "version": 3
   },
   "file_extension": ".py",
   "mimetype": "text/x-python",
   "name": "python",
   "nbconvert_exporter": "python",
   "pygments_lexer": "ipython3",
   "version": "3.6.1"
  }
 },
 "nbformat": 4,
 "nbformat_minor": 2
}
