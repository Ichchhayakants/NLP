{
 "cells": [
  {
   "cell_type": "code",
   "execution_count": 180,
   "metadata": {},
   "outputs": [],
   "source": [
    "import string\n",
    "import re\n",
    "from os import listdir\n",
    "from numpy import array\n",
    "from tensorflow.keras.preprocessing.text import Tokenizer\n",
    "from tensorflow.keras.preprocessing.sequence import pad_sequences\n",
    "from tensorflow.keras.models import Sequential\n",
    "from keras.utils.vis_utils import plot_model\n",
    "from tensorflow.keras.layers import Dense\n",
    "from tensorflow.keras.layers import Flatten\n",
    "from tensorflow.keras.layers import Embedding\n",
    "from tensorflow.python.keras.layers.convolutional import Conv1D\n",
    "from tensorflow.python.keras.layers.convolutional import MaxPooling1D\n",
    "from tensorflow.python.keras import backend\n",
    "from tensorflow import keras"
   ]
  },
  {
   "cell_type": "code",
   "execution_count": 181,
   "metadata": {},
   "outputs": [],
   "source": [
    "# load doc into memory\n",
    "def load_doc(filename):\n",
    "    file = open(filename,'r')\n",
    "    text = file.read()\n",
    "    file.close()\n",
    "    return text"
   ]
  },
  {
   "cell_type": "code",
   "execution_count": 182,
   "metadata": {},
   "outputs": [],
   "source": [
    "# Turn a doc into clean tokens\n",
    "def clean_doc(doc,vocab):\n",
    "    tokens = doc.split()\n",
    "    re_punc = re.compile('[%s]' % re.escape(string.punctuation))\n",
    "    tokens = [re_punc.sub('',w) for w in tokens]\n",
    "    tokens = [w for w in tokens if w in vocab]\n",
    "    tokens = ' '.join(tokens)\n",
    "    return tokens"
   ]
  },
  {
   "cell_type": "code",
   "execution_count": 183,
   "metadata": {},
   "outputs": [],
   "source": [
    "# Load all docs in a directory\n",
    "def process_docs(directory,vocab,is_train):\n",
    "    documents = list()\n",
    "    for filename in listdir(directory):\n",
    "        if is_train and filename.startswith('cv9'):\n",
    "            continue\n",
    "        if not is_train and not filename.startswith('cv9'):\n",
    "            continue\n",
    "        path = directory+'/'+filename\n",
    "        doc = load_doc(path)\n",
    "        tokens = clean_doc(doc,vocab)\n",
    "        documents.append(tokens)\n",
    "    return documents"
   ]
  },
  {
   "cell_type": "code",
   "execution_count": 184,
   "metadata": {},
   "outputs": [],
   "source": [
    "# Load and clean a dataset\n",
    "def load_clean_dataset(vocab,is_train):\n",
    "    neg = process_docs('txt_sentoken/neg',vocab,is_train)\n",
    "    pos = process_docs('txt_sentoken/pos',vocab,is_train)\n",
    "    docs = neg+pos\n",
    "    # Prepare labels\n",
    "    labels = array([0 for _ in range(len(neg))]+[1 for _ in range(len(pos))])\n",
    "    return docs,labels"
   ]
  },
  {
   "cell_type": "code",
   "execution_count": 185,
   "metadata": {},
   "outputs": [],
   "source": [
    "# Fit a tokenizer\n",
    "def create_tokenizer(lines):\n",
    "    tokenizer =Tokenizer()\n",
    "    tokenizer.fit_on_texts(lines)\n",
    "    return tokenizer\n"
   ]
  },
  {
   "cell_type": "code",
   "execution_count": 186,
   "metadata": {},
   "outputs": [],
   "source": [
    "# integer encode and pad documents\n",
    "def encode_docs(tokenizer,max_length,docs):\n",
    "    encoded = tokenizer.texts_to_sequences(docs)\n",
    "    #pad sequences\n",
    "    padded = pad_sequences(encoded,maxlen=max_length,padding='post')\n",
    "    return padded"
   ]
  },
  {
   "cell_type": "code",
   "execution_count": 187,
   "metadata": {},
   "outputs": [],
   "source": [
    "# Define the model\n",
    "def define_model(vocab_size,max_length):\n",
    "    model =Sequential()\n",
    "    model.add(Embedding(vocab_size,100,input_length= max_length))\n",
    "    model.add(Conv1D(filters=32,kernel_size=8,activation= 'relu'))\n",
    "    model.add(MaxPooling1D(pool_size=2))\n",
    "    model.add(Flatten())\n",
    "    model.add(Dense(10,activation='relu'))\n",
    "    model.add(Dense(1,activation= 'sigmoid'))\n",
    "    # Compile the network\n",
    "    model.compile(loss = 'binary_crossentropy',optimizer = 'adam',metrics= ['accuracy'])\n",
    "    #model.summary()\n",
    "    return model"
   ]
  },
  {
   "cell_type": "code",
   "execution_count": 188,
   "metadata": {},
   "outputs": [],
   "source": [
    "# Classify a review as postive or negative\n",
    "def predict_sentiment(review,vocab,tokenizer,max_length,model):\n",
    "    line = clean_doc(review,vocab)\n",
    "    padded =encode_docs(tokenizer,max_length,[line])\n",
    "    # Predict sentiment\n",
    "    yhat = model.predict(padded,verbose = 0)\n",
    "    percent_pos = yhat[0,0]\n",
    "    if round(percent_pos)==0:\n",
    "        return (1-percent_pos),'NEGATIVE'\n",
    "    return percent_pos,'POSITIVE'"
   ]
  },
  {
   "cell_type": "code",
   "execution_count": null,
   "metadata": {},
   "outputs": [
    {
     "name": "stdout",
     "output_type": "stream",
     "text": [
      "Vocab Size: 25768\n",
      "Max Length: 1317\n",
      "Train on 1800 samples\n",
      "Epoch 1/10\n",
      "1800/1800 - 8s - loss: 0.6892 - accuracy: 0.5233\n",
      "Epoch 2/10\n",
      "1800/1800 - 8s - loss: 0.5288 - accuracy: 0.7356\n",
      "Epoch 3/10\n",
      "1800/1800 - 9s - loss: 0.1351 - accuracy: 0.9478\n",
      "Epoch 4/10\n",
      "1800/1800 - 8s - loss: 0.0166 - accuracy: 0.9989\n",
      "Epoch 5/10\n",
      "1800/1800 - 10s - loss: 0.0039 - accuracy: 1.0000\n",
      "Epoch 6/10\n",
      "1800/1800 - 10s - loss: 0.0020 - accuracy: 1.0000\n",
      "Epoch 7/10\n",
      "1800/1800 - 10s - loss: 0.0014 - accuracy: 1.0000\n",
      "Epoch 8/10\n",
      "1800/1800 - 10s - loss: 9.7693e-04 - accuracy: 1.0000\n",
      "Epoch 9/10\n",
      "1800/1800 - 10s - loss: 7.6753e-04 - accuracy: 1.0000\n",
      "Epoch 10/10\n"
     ]
    }
   ],
   "source": [
    "# Load the voicabulary\n",
    "vocab_filename = 'vocab.txt'\n",
    "vocab = load_doc(vocab_filename)\n",
    "vocab = set(vocab.split())\n",
    "# load all reviews\n",
    "train_docs,ytrain = load_clean_dataset(vocab,True)\n",
    "test_docs, ytest = load_clean_dataset(vocab,False)\n",
    "# Create the tokenizer\n",
    "tokenizer = create_tokenizer(train_docs)\n",
    "# define vocab size \n",
    "vocab_size = len(tokenizer.word_index)+1\n",
    "print('Vocab Size: %d' %vocab_size)\n",
    "# Calculate the max sequence length\n",
    "max_length = max([len(s.split()) for s in train_docs])\n",
    "print('Max Length: %d'%max_length)\n",
    "# Encode data\n",
    "Xtrain = encode_docs(tokenizer,max_length,train_docs)\n",
    "Xtest = encode_docs(tokenizer,max_length,test_docs)\n",
    "model = define_model(vocab_size,max_length)\n",
    "model.fit(Xtrain,ytrain,epochs=10,verbose=2)\n",
    "# Evaluate model on training data\n",
    "_,acc = model.evaluate(Xtrain,ytrain,verbose = 0)\n",
    "print('Train Accuracy: %.2f' %(acc*100))\n",
    "# evaluate model on test dataset\n",
    "_,acc = model.evaluate(Xtest,ytest,verbose = 0)\n",
    "print('Test Accuracy: %.2f' %(acc*100))"
   ]
  },
  {
   "cell_type": "code",
   "execution_count": null,
   "metadata": {},
   "outputs": [],
   "source": [
    "# Testing\n",
    "text = 'Everyone will enjoy this film.'\n",
    "percent,sentiment = predict_sentiment(text,vocab,tokenizer,max_length,model)\n",
    "print('Review\" [%s]\\nSentiment: %s (%.3f%%)' %(text,sentiment,percent*100))"
   ]
  },
  {
   "cell_type": "code",
   "execution_count": null,
   "metadata": {},
   "outputs": [],
   "source": []
  },
  {
   "cell_type": "code",
   "execution_count": null,
   "metadata": {},
   "outputs": [],
   "source": []
  },
  {
   "cell_type": "code",
   "execution_count": null,
   "metadata": {},
   "outputs": [],
   "source": []
  },
  {
   "cell_type": "code",
   "execution_count": null,
   "metadata": {},
   "outputs": [],
   "source": []
  }
 ],
 "metadata": {
  "kernelspec": {
   "display_name": "Python 3",
   "language": "python",
   "name": "python3"
  },
  "language_info": {
   "codemirror_mode": {
    "name": "ipython",
    "version": 3
   },
   "file_extension": ".py",
   "mimetype": "text/x-python",
   "name": "python",
   "nbconvert_exporter": "python",
   "pygments_lexer": "ipython3",
   "version": "3.6.1"
  }
 },
 "nbformat": 4,
 "nbformat_minor": 2
}
