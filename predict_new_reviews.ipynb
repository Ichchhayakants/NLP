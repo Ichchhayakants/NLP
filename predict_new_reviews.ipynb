{
 "cells": [
  {
   "cell_type": "code",
   "execution_count": 29,
   "metadata": {},
   "outputs": [],
   "source": [
    "import string\n",
    "import re\n",
    "from os import listdir\n",
    "from collections import Counter\n",
    "from nltk.corpus import stopwords\n",
    "from keras.preprocessing.text import Tokenizer\n",
    "from keras.utils.vis_utils import plot_model\n",
    "from tensorflow.keras.models import Sequential\n",
    "from tensorflow.keras.layers import Dense\n",
    "from tensorflow.python.keras import backend"
   ]
  },
  {
   "cell_type": "code",
   "execution_count": 30,
   "metadata": {},
   "outputs": [],
   "source": [
    "# Load doc into memory\n",
    "def load_doc(filename):\n",
    "    file = open(filename,'r')\n",
    "    text = file.read()\n",
    "    file.close()\n",
    "    return text"
   ]
  },
  {
   "cell_type": "code",
   "execution_count": 31,
   "metadata": {},
   "outputs": [],
   "source": [
    "# Turn a doc into clean tokens\n",
    "def clean_doc(doc):\n",
    "    tokens = doc.split()\n",
    "    re_punc = re.compile('[%s]' % re.escape(string.punctuation))\n",
    "    tokens = [re_punc.sub('',w) for w in tokens]\n",
    "    tokens = [word for word in tokens if word.isalpha()]\n",
    "    #filter out stop words\n",
    "    stop_words = set(stopwords.words('english'))\n",
    "    tokens = [w for w in tokens if not w in stop_words]\n",
    "    # Filter out short tokens\n",
    "    tokens = [word for word in tokens if len(word)>1]\n",
    "    return tokens"
   ]
  },
  {
   "cell_type": "code",
   "execution_count": 32,
   "metadata": {},
   "outputs": [],
   "source": [
    "# Load doc , clean and retuirn line of tokens\n",
    "def doc_to_line(filename,vocab):\n",
    "    # load the doc\n",
    "    doc = load_doc(filename)\n",
    "    # clean doc\n",
    "    tokens = clean_doc(doc)\n",
    "    # filter by vocab\n",
    "    tokens = [w for w in tokens if w in vocab]\n",
    "    return ' '.join(tokens)"
   ]
  },
  {
   "cell_type": "code",
   "execution_count": 33,
   "metadata": {},
   "outputs": [],
   "source": [
    "# load all docs in a directory\n",
    "def process_docs(directory, vocab):\n",
    "    lines = list()\n",
    "    # walk through all files in the folder\n",
    "    for filename in listdir(directory):\n",
    "        # create a full path of the file to open\n",
    "        path = directory + '/' + filename\n",
    "        #load and clean the doc\n",
    "        line = doc_to_line(path,vocab)\n",
    "        #add to list\n",
    "        lines.append(line)\n",
    "    return lines"
   ]
  },
  {
   "cell_type": "code",
   "execution_count": 60,
   "metadata": {},
   "outputs": [],
   "source": [
    "# Load and clean dataset\n",
    "def load_clean_dataset(vocab):\n",
    "    # load documents\n",
    "    neg = process_docs('txt_sentoken/neg',vocab)\n",
    "    pos = process_docs('txt_sentoken/pos',vocab)\n",
    "    docs =neg +pos\n",
    "    # prepare labels\n",
    "    labels = [0 for _ in range(len(neg))] + [1 for _ in range(len(pos))]\n",
    "    return docs, labels\n",
    "                          "
   ]
  },
  {
   "cell_type": "code",
   "execution_count": 61,
   "metadata": {},
   "outputs": [],
   "source": [
    "# fit a tokenizer\n",
    "def create_tokenizer(lines):\n",
    "    tokenizer = Tokenizer()\n",
    "    tokenizer.fit_on_texts(lines)\n",
    "    return tokenizer"
   ]
  },
  {
   "cell_type": "code",
   "execution_count": 62,
   "metadata": {},
   "outputs": [],
   "source": [
    "# Define the model\n",
    "def define_model(n_words):\n",
    "    # define network\n",
    "    model = Sequential()\n",
    "    model.add(Dense(50,input_shape=(n_words,), activation = 'relu'))\n",
    "    model.add(Dense(1,activation= 'sigmoid'))\n",
    "    \n",
    "    #compile the network\n",
    "    model.compile(loss='binary_crossentropy', optimizer = 'adam',metrics=['accuracy'])\n",
    "    \n",
    "    #summary\n",
    "    model.summary()\n",
    "    \n",
    "    #plot_model(model,to_file='model.png',show_shapes = True)\n",
    "    return model"
   ]
  },
  {
   "cell_type": "code",
   "execution_count": 63,
   "metadata": {},
   "outputs": [],
   "source": [
    "# Classify a review as negative or positive\n",
    "def predict_sentiment(review,vocab,tokenizer,model):\n",
    "    # Clean\n",
    "    tokens = clean_doc(review)\n",
    "    # filter byvocab\n",
    "    tokens = [w for w in tokens if w in vocab]\n",
    "    # convert to line\n",
    "    line = ' '.join(tokens)\n",
    "    # encode\n",
    "    encoded = tokenizer.texts_to_matrix([line], mode = 'binary')\n",
    "    # predict sentiment\n",
    "    yhat = model.predict(encoded, verbose=0)\n",
    "    #retrieve predicted percentage and label\n",
    "    percent_pos = yhat[0,0]\n",
    "    if round(percent_pos)==0:\n",
    "        return (1-percent_pos), 'NEGATIVE'\n",
    "    return percent_pos, 'POSITIVE'"
   ]
  },
  {
   "cell_type": "code",
   "execution_count": 64,
   "metadata": {},
   "outputs": [
    {
     "name": "stdout",
     "output_type": "stream",
     "text": [
      "Model: \"sequential_9\"\n",
      "_________________________________________________________________\n",
      "Layer (type)                 Output Shape              Param #   \n",
      "=================================================================\n",
      "dense_15 (Dense)             (None, 50)                1288450   \n",
      "_________________________________________________________________\n",
      "dense_16 (Dense)             (None, 1)                 51        \n",
      "=================================================================\n",
      "Total params: 1,288,501\n",
      "Trainable params: 1,288,501\n",
      "Non-trainable params: 0\n",
      "_________________________________________________________________\n",
      "Train on 2000 samples\n",
      "Epoch 1/10\n",
      "2000/2000 - 1s - loss: 0.4382 - accuracy: 0.8160\n",
      "Epoch 2/10\n",
      "2000/2000 - 1s - loss: 0.0474 - accuracy: 0.9975\n",
      "Epoch 3/10\n",
      "2000/2000 - 1s - loss: 0.0141 - accuracy: 1.0000\n",
      "Epoch 4/10\n",
      "2000/2000 - 1s - loss: 0.0068 - accuracy: 1.0000\n",
      "Epoch 5/10\n",
      "2000/2000 - 1s - loss: 0.0037 - accuracy: 1.0000\n",
      "Epoch 6/10\n",
      "2000/2000 - 1s - loss: 0.0022 - accuracy: 1.0000\n",
      "Epoch 7/10\n",
      "2000/2000 - 1s - loss: 0.0015 - accuracy: 1.0000\n",
      "Epoch 8/10\n",
      "2000/2000 - 1s - loss: 0.0011 - accuracy: 1.0000\n",
      "Epoch 9/10\n",
      "2000/2000 - 1s - loss: 8.2387e-04 - accuracy: 1.0000\n",
      "Epoch 10/10\n",
      "2000/2000 - 1s - loss: 6.5139e-04 - accuracy: 1.0000\n",
      "Review: [Best movie ever! It was great, I recommend it]\n",
      "Sentiment: POSITIVE (58.407%)\n",
      "Reviw: [This is a bad movie]\n",
      "Sentiment: NEGATIVE (63.363%)\n"
     ]
    }
   ],
   "source": [
    "# load the vocabulary\n",
    "vocab_filename = 'vocab.txt'\n",
    "vocab = load_doc(vocab_filename)\n",
    "vocab = set(vocab.split())\n",
    "# load all reviews\n",
    "train_docs, ytrain = load_clean_dataset(vocab)\n",
    "test_docs,ytest = load_clean_dataset(vocab)\n",
    "# create the tokenizer\n",
    "tokenizer = create_tokenizer(train_docs)\n",
    "# Encode data\n",
    "Xtrain = tokenizer.texts_to_matrix(train_docs, mode = 'binary')\n",
    "Xtest = tokenizer.texts_to_matrix(test_docs,mode = 'binary')\n",
    "# define network\n",
    "n_words = Xtrain.shape[1]\n",
    "model = define_model(n_words)\n",
    "# fit network\n",
    "model.fit(Xtrain,ytrain,epochs = 10,verbose=2)\n",
    "\n",
    "#test positive text\n",
    "text = 'Best movie ever! It was great, I recommend it'\n",
    "percent, sentiment = predict_sentiment(text,vocab,tokenizer,model)\n",
    "print('Review: [%s]\\nSentiment: %s (%.3f%%)' %(text, sentiment,percent*100))\n",
    "# test negative text\n",
    "text = 'This is a bad movie'\n",
    "percent,sentiment = predict_sentiment(text,vocab,tokenizer,model)\n",
    "print('Reviw: [%s]\\nSentiment: %s (%.3f%%)' % (text,sentiment,percent*100))"
   ]
  },
  {
   "cell_type": "code",
   "execution_count": null,
   "metadata": {},
   "outputs": [],
   "source": []
  }
 ],
 "metadata": {
  "kernelspec": {
   "display_name": "Python 3",
   "language": "python",
   "name": "python3"
  },
  "language_info": {
   "codemirror_mode": {
    "name": "ipython",
    "version": 3
   },
   "file_extension": ".py",
   "mimetype": "text/x-python",
   "name": "python",
   "nbconvert_exporter": "python",
   "pygments_lexer": "ipython3",
   "version": "3.6.1"
  }
 },
 "nbformat": 4,
 "nbformat_minor": 2
}
